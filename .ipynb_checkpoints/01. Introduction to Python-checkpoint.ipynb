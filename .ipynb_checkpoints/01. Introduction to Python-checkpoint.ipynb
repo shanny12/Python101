{
 "cells": [
  {
   "cell_type": "markdown",
   "id": "1f20b1ac",
   "metadata": {},
   "source": [
    "# Introdction to Python\n",
    "\n",
    "Python is a high-level, interpreted, general-purpose programming language. Its design philosophy emphasizes code readability with the use of significant indentation.\n",
    "\n",
    "Python is dynamically-typed and garbage-collected. It supports multiple programming paradigms, including structured (particularly procedural), object-oriented and functional programming. It is often described as a \"batteries included\" language due to its comprehensive standard library.\n",
    "\n",
    "Guido van Rossum began working on Python in the late 1980s as a successor to the ABC programming language and first released it in 1991 as Python 0.9.0 Python 2.0 was released in 2000 and introduced new features such as list comprehensions, cycle-detecting garbage collection, reference counting, and Unicode support. Python 3.0, released in 2008, was a major revision that is not completely backward-compatible with earlier versions. Python 2 was discontinued with version 2.7.18 in 2020.\n",
    "\n",
    "Data Types in Python :\n",
    "\n",
    "* Integer\n",
    "* Float Int\n",
    "* String\n",
    "* Lists\n",
    "* Dictionaries\n",
    "* Tuples\n",
    "* Sets\n",
    "* Boolean"
   ]
  },
  {
   "cell_type": "markdown",
   "id": "ba59ed3c",
   "metadata": {},
   "source": [
    "## Numbers"
   ]
  },
  {
   "cell_type": "code",
   "execution_count": 3,
   "id": "bb0c1452",
   "metadata": {},
   "outputs": [
    {
     "name": "stdout",
     "output_type": "stream",
     "text": [
      "3\n",
      "0\n",
      "135\n",
      "1.75\n",
      "3\n",
      "16\n"
     ]
    }
   ],
   "source": [
    "print(2 + 1) # add\n",
    "print(2 - 2) # subtract\n",
    "print(3 * 45) # multiply\n",
    "print(7 / 4) # divide\n",
    "print(7 % 4) # modulo\n",
    "print(2 ** 4) # powe"
   ]
  },
  {
   "cell_type": "markdown",
   "id": "b6aadb66",
   "metadata": {},
   "source": [
    "## Strings\n",
    "\n",
    "__Properties :__\n",
    "\n",
    "* Sequence of characters.\n",
    "* Slicing Supported.\n",
    "* Indexing Supported.\n",
    "* Immutable."
   ]
  },
  {
   "cell_type": "code",
   "execution_count": 4,
   "id": "1c1b7054",
   "metadata": {},
   "outputs": [],
   "source": [
    "my_string = \"sharanyaD\""
   ]
  },
  {
   "cell_type": "code",
   "execution_count": 8,
   "id": "4b063577",
   "metadata": {},
   "outputs": [],
   "source": [
    "my_string = my_string.strip(\"D\")"
   ]
  },
  {
   "cell_type": "code",
   "execution_count": 9,
   "id": "44b9906b",
   "metadata": {},
   "outputs": [
    {
     "data": {
      "text/plain": [
       "'r'"
      ]
     },
     "execution_count": 9,
     "metadata": {},
     "output_type": "execute_result"
    }
   ],
   "source": [
    "my_string[3]"
   ]
  },
  {
   "cell_type": "code",
   "execution_count": 10,
   "id": "232973d3",
   "metadata": {},
   "outputs": [
    {
     "data": {
      "text/plain": [
       "'ranya'"
      ]
     },
     "execution_count": 10,
     "metadata": {},
     "output_type": "execute_result"
    }
   ],
   "source": [
    "my_string[3:]"
   ]
  },
  {
   "cell_type": "code",
   "execution_count": 12,
   "id": "f0857b23",
   "metadata": {},
   "outputs": [
    {
     "data": {
      "text/plain": [
       "'aynarahs'"
      ]
     },
     "execution_count": 12,
     "metadata": {},
     "output_type": "execute_result"
    }
   ],
   "source": [
    "my_string[::-1] # reverse a string"
   ]
  },
  {
   "cell_type": "code",
   "execution_count": 18,
   "id": "44ae5c5b",
   "metadata": {},
   "outputs": [
    {
     "data": {
      "text/plain": [
       "'sharanya DOddamani'"
      ]
     },
     "execution_count": 18,
     "metadata": {},
     "output_type": "execute_result"
    }
   ],
   "source": [
    "my_string + \" DOddamani\""
   ]
  },
  {
   "cell_type": "code",
   "execution_count": 16,
   "id": "7e71a70b",
   "metadata": {},
   "outputs": [
    {
     "data": {
      "text/plain": [
       "'mmmmmmmmmm'"
      ]
     },
     "execution_count": 16,
     "metadata": {},
     "output_type": "execute_result"
    }
   ],
   "source": [
    "\"m\" * 10 # multiply numbers"
   ]
  },
  {
   "cell_type": "code",
   "execution_count": 17,
   "id": "cb255b6b",
   "metadata": {},
   "outputs": [
    {
     "data": {
      "text/plain": [
       "'SHARANYA'"
      ]
     },
     "execution_count": 17,
     "metadata": {},
     "output_type": "execute_result"
    }
   ],
   "source": [
    "my_string.upper() # upper case ; for lower use .lower()"
   ]
  },
  {
   "cell_type": "code",
   "execution_count": 19,
   "id": "d75be370",
   "metadata": {},
   "outputs": [
    {
     "data": {
      "text/plain": [
       "['sh', 'r', 'ny', '']"
      ]
     },
     "execution_count": 19,
     "metadata": {},
     "output_type": "execute_result"
    }
   ],
   "source": [
    "my_string.split(\"a\")"
   ]
  },
  {
   "cell_type": "code",
   "execution_count": 20,
   "id": "56e58fd0",
   "metadata": {},
   "outputs": [
    {
     "name": "stdout",
     "output_type": "stream",
     "text": [
      "my name is sharanya\n"
     ]
    }
   ],
   "source": [
    "print(\"my name is \"+ my_string)"
   ]
  },
  {
   "cell_type": "code",
   "execution_count": 75,
   "id": "8e4e7420",
   "metadata": {},
   "outputs": [],
   "source": [
    "q = \"quick\"\n",
    "b = \"brown\"\n",
    "f = \"fox\""
   ]
  },
  {
   "cell_type": "code",
   "execution_count": 76,
   "id": "67508b72",
   "metadata": {},
   "outputs": [
    {
     "name": "stdout",
     "output_type": "stream",
     "text": [
      "the quick brown fox is not sharanya\n"
     ]
    }
   ],
   "source": [
    "print(f\"the {q} {b} {f} is not {my_string}\")"
   ]
  },
  {
   "cell_type": "code",
   "execution_count": 78,
   "id": "c83e1049",
   "metadata": {},
   "outputs": [
    {
     "name": "stdout",
     "output_type": "stream",
     "text": [
      "Answer : 0.129\n"
     ]
    }
   ],
   "source": [
    "# print using precision of floating point numbers\n",
    "result = 100/777\n",
    "print(f\"Answer : {result:.3f}\")"
   ]
  },
  {
   "cell_type": "markdown",
   "id": "24a2da5c",
   "metadata": {},
   "source": [
    "## Lists\n",
    "\n",
    "__Properties :__\n",
    "\n",
    "* __Ordered sequences__ that can hold a variety of objects (hetrogeneous).\n",
    "* Indexing Supported.\n",
    "* Slicing Supported.\n",
    "* Mutable."
   ]
  },
  {
   "cell_type": "code",
   "execution_count": 27,
   "id": "3c085bd7",
   "metadata": {},
   "outputs": [],
   "source": [
    "my_list = [1,2,3]\n",
    "new_list = ['string', 100, 20.3]"
   ]
  },
  {
   "cell_type": "code",
   "execution_count": 28,
   "id": "d9e6d94f",
   "metadata": {},
   "outputs": [
    {
     "data": {
      "text/plain": [
       "3"
      ]
     },
     "execution_count": 28,
     "metadata": {},
     "output_type": "execute_result"
    }
   ],
   "source": [
    "# length of list\n",
    "len(new_list)"
   ]
  },
  {
   "cell_type": "code",
   "execution_count": 29,
   "id": "bebe932e",
   "metadata": {},
   "outputs": [
    {
     "data": {
      "text/plain": [
       "[100, 20.3]"
      ]
     },
     "execution_count": 29,
     "metadata": {},
     "output_type": "execute_result"
    }
   ],
   "source": [
    "new_list[1:]"
   ]
  },
  {
   "cell_type": "code",
   "execution_count": 33,
   "id": "7891b954",
   "metadata": {},
   "outputs": [
    {
     "data": {
      "text/plain": [
       "['string', 100, 20.3, 'string', 100, 20.3]"
      ]
     },
     "execution_count": 33,
     "metadata": {},
     "output_type": "execute_result"
    }
   ],
   "source": [
    "# concatenate two lists\n",
    "my_list + new_list "
   ]
  },
  {
   "cell_type": "code",
   "execution_count": 34,
   "id": "3b650507",
   "metadata": {},
   "outputs": [
    {
     "data": {
      "text/plain": [
       "'string'"
      ]
     },
     "execution_count": 34,
     "metadata": {},
     "output_type": "execute_result"
    }
   ],
   "source": [
    "my_list[0]"
   ]
  },
  {
   "cell_type": "code",
   "execution_count": 35,
   "id": "3ee1e296",
   "metadata": {},
   "outputs": [],
   "source": [
    "#append operation\n",
    "new_list.append(True)"
   ]
  },
  {
   "cell_type": "code",
   "execution_count": 36,
   "id": "4816afa9",
   "metadata": {},
   "outputs": [
    {
     "data": {
      "text/plain": [
       "True"
      ]
     },
     "execution_count": 36,
     "metadata": {},
     "output_type": "execute_result"
    }
   ],
   "source": [
    "# delete from end\n",
    "my_list.pop()"
   ]
  },
  {
   "cell_type": "code",
   "execution_count": 37,
   "id": "b566d6d2",
   "metadata": {},
   "outputs": [
    {
     "data": {
      "text/plain": [
       "100"
      ]
     },
     "execution_count": 37,
     "metadata": {},
     "output_type": "execute_result"
    }
   ],
   "source": [
    "#delete from any index\n",
    "new_list.pop(1)"
   ]
  },
  {
   "cell_type": "code",
   "execution_count": 38,
   "id": "9c715273",
   "metadata": {},
   "outputs": [],
   "source": [
    "# insert element at any index\n",
    "new_list.insert(1,100) # first parameter is the index, second parameter is the value/element to be inserted"
   ]
  },
  {
   "cell_type": "code",
   "execution_count": 45,
   "id": "9b015878",
   "metadata": {},
   "outputs": [
    {
     "name": "stdout",
     "output_type": "stream",
     "text": [
      "[1, 3, 3, 22, 36, 40, 44, 112]\n"
     ]
    }
   ],
   "source": [
    "# sort a list\n",
    "num_list = [44,1,36,22,3,40,112,3]\n",
    "num_list.sort()\n",
    "print(num_list)"
   ]
  },
  {
   "cell_type": "code",
   "execution_count": 46,
   "id": "61aa34f2",
   "metadata": {},
   "outputs": [
    {
     "name": "stdout",
     "output_type": "stream",
     "text": [
      "[112, 44, 40, 36, 22, 3, 3, 1]\n"
     ]
    }
   ],
   "source": [
    "# reverse a list\n",
    "num_list.reverse()\n",
    "print(num_list)"
   ]
  },
  {
   "cell_type": "markdown",
   "id": "0be6cff1",
   "metadata": {},
   "source": [
    "## Dictionaries\n",
    "\n",
    "__Properties :__\n",
    "\n",
    "* __Unordered mappings__ for storing objects. Dictionaries use __Key-Value__ pairings for storing elements.\n",
    "* Can access values without even knowing their indexes; accessing using the respective key.\n",
    "\n",
    "__{ key1 : value1, key2 : value2 }__"
   ]
  },
  {
   "cell_type": "code",
   "execution_count": 51,
   "id": "cc1baf9e",
   "metadata": {},
   "outputs": [],
   "source": [
    "price_lookup = { 'apple': 220, 'oranges' : 160, 'milk' : 19 }"
   ]
  },
  {
   "cell_type": "code",
   "execution_count": 79,
   "id": "54e20125",
   "metadata": {},
   "outputs": [
    {
     "data": {
      "text/plain": [
       "160"
      ]
     },
     "execution_count": 79,
     "metadata": {},
     "output_type": "execute_result"
    }
   ],
   "source": [
    "price_lookup['oranges']"
   ]
  },
  {
   "cell_type": "code",
   "execution_count": 83,
   "id": "7704afa7",
   "metadata": {},
   "outputs": [
    {
     "name": "stdout",
     "output_type": "stream",
     "text": [
      "100\n",
      "4000\n"
     ]
    }
   ],
   "source": [
    "# homogeneous dictionary\n",
    "# How to access values?\n",
    "\n",
    "d = {'k1':123, 'k2':[0,1,2,[55,1128,4000],3], 'k3': {'insideKey':100}, 'k4': True}\n",
    "\n",
    "# find value of insideKey\n",
    "print(d['k3']['insideKey'])\n",
    "\n",
    "# print the value 4000\n",
    "print(d['k2'][3][2])"
   ]
  },
  {
   "cell_type": "code",
   "execution_count": 89,
   "id": "726a69b1",
   "metadata": {},
   "outputs": [
    {
     "data": {
      "text/plain": [
       "21"
      ]
     },
     "execution_count": 89,
     "metadata": {},
     "output_type": "execute_result"
    }
   ],
   "source": [
    "dd = {'k1':123, 'k2': [0,1,2,{'k6':[55,{'k8':[1128,[21,4000]]}]},3] , 'k3': {'insideKey':100}, 'k4': True}\n",
    "\n",
    "# find the value 21\n",
    "dd['k2'][3]['k6'][1]['k8'][1][0]"
   ]
  },
  {
   "cell_type": "code",
   "execution_count": 54,
   "id": "0114ed43",
   "metadata": {},
   "outputs": [],
   "source": [
    "# add new key and value\n",
    "d['k5'] = 'Sharanya'"
   ]
  },
  {
   "cell_type": "code",
   "execution_count": 55,
   "id": "d4c5b234",
   "metadata": {},
   "outputs": [
    {
     "data": {
      "text/plain": [
       "{'k1': 123,\n",
       " 'k2': [0, 1, 2, [55, 1128, 4000], 3],\n",
       " 'k3': {'insideKey': 100},\n",
       " 'k4': True,\n",
       " 'k5': 'Sharanya'}"
      ]
     },
     "execution_count": 55,
     "metadata": {},
     "output_type": "execute_result"
    }
   ],
   "source": [
    "d"
   ]
  },
  {
   "cell_type": "code",
   "execution_count": 56,
   "id": "8be509a4",
   "metadata": {},
   "outputs": [],
   "source": [
    "# overwrite a value\n",
    "d['k4'] = False"
   ]
  },
  {
   "cell_type": "code",
   "execution_count": 57,
   "id": "2b2ddff0",
   "metadata": {},
   "outputs": [
    {
     "data": {
      "text/plain": [
       "dict_keys(['k1', 'k2', 'k3', 'k4', 'k5'])"
      ]
     },
     "execution_count": 57,
     "metadata": {},
     "output_type": "execute_result"
    }
   ],
   "source": [
    "# display all keys\n",
    "d.keys()"
   ]
  },
  {
   "cell_type": "code",
   "execution_count": 58,
   "id": "b6a0c315",
   "metadata": {},
   "outputs": [
    {
     "data": {
      "text/plain": [
       "dict_values([123, [0, 1, 2, [55, 1128, 4000], 3], {'insideKey': 100}, False, 'Sharanya'])"
      ]
     },
     "execution_count": 58,
     "metadata": {},
     "output_type": "execute_result"
    }
   ],
   "source": [
    "# display all values\n",
    "d.values()"
   ]
  },
  {
   "cell_type": "code",
   "execution_count": 59,
   "id": "27778a6d",
   "metadata": {},
   "outputs": [
    {
     "data": {
      "text/plain": [
       "dict_items([('k1', 123), ('k2', [0, 1, 2, [55, 1128, 4000], 3]), ('k3', {'insideKey': 100}), ('k4', False), ('k5', 'Sharanya')])"
      ]
     },
     "execution_count": 59,
     "metadata": {},
     "output_type": "execute_result"
    }
   ],
   "source": [
    "# diaplay all items\n",
    "d.items()"
   ]
  },
  {
   "cell_type": "markdown",
   "id": "ac8bde24",
   "metadata": {},
   "source": [
    "## Tuples\n",
    "\n",
    "__Properties :__\n",
    "\n",
    "* Similar to lists. Except the fact they are __immutable__; once the value is assigned they can't be changed/reassigned."
   ]
  },
  {
   "cell_type": "code",
   "execution_count": 63,
   "id": "5b229476",
   "metadata": {},
   "outputs": [],
   "source": [
    "t = (1,1,1,1,2,2,3,3,3)"
   ]
  },
  {
   "cell_type": "code",
   "execution_count": 64,
   "id": "c776fc67",
   "metadata": {},
   "outputs": [
    {
     "data": {
      "text/plain": [
       "4"
      ]
     },
     "execution_count": 64,
     "metadata": {},
     "output_type": "execute_result"
    }
   ],
   "source": [
    "t.count(1)"
   ]
  },
  {
   "cell_type": "code",
   "execution_count": 65,
   "id": "2575a4cb",
   "metadata": {},
   "outputs": [
    {
     "data": {
      "text/plain": [
       "4"
      ]
     },
     "execution_count": 65,
     "metadata": {},
     "output_type": "execute_result"
    }
   ],
   "source": [
    "# first time the element occurs\n",
    "t.index(2)"
   ]
  },
  {
   "cell_type": "markdown",
   "id": "4ddf365c",
   "metadata": {},
   "source": [
    "## Sets\n",
    "\n",
    "__Properties :__\n",
    "\n",
    "* __Unordered__ collection of __unique elements__; there can be only one representative of the same object."
   ]
  },
  {
   "cell_type": "code",
   "execution_count": 66,
   "id": "55b58853",
   "metadata": {},
   "outputs": [],
   "source": [
    "my_set = set() # initialise a set"
   ]
  },
  {
   "cell_type": "code",
   "execution_count": 67,
   "id": "860bd51f",
   "metadata": {},
   "outputs": [],
   "source": [
    "my_set.add(1)"
   ]
  },
  {
   "cell_type": "code",
   "execution_count": 68,
   "id": "fe190426",
   "metadata": {},
   "outputs": [],
   "source": [
    "my_set.add(2)"
   ]
  },
  {
   "cell_type": "code",
   "execution_count": 69,
   "id": "087e93ab",
   "metadata": {},
   "outputs": [],
   "source": [
    "my_set.add(1)"
   ]
  },
  {
   "cell_type": "code",
   "execution_count": 70,
   "id": "e715ef59",
   "metadata": {},
   "outputs": [
    {
     "data": {
      "text/plain": [
       "{1, 2}"
      ]
     },
     "execution_count": 70,
     "metadata": {},
     "output_type": "execute_result"
    }
   ],
   "source": [
    "my_set"
   ]
  },
  {
   "cell_type": "code",
   "execution_count": 71,
   "id": "4c54b5e0",
   "metadata": {},
   "outputs": [
    {
     "data": {
      "text/plain": [
       "{1, 3, 5, 6, 7, 33, 43, 77}"
      ]
     },
     "execution_count": 71,
     "metadata": {},
     "output_type": "execute_result"
    }
   ],
   "source": [
    "# say you want to find unique elements in ana array; easiest method is to convert it into set.\n",
    "arr = [1,43,1,43,6,77,7,33,33,5,5,5,5,7,3,33,33]\n",
    "set(arr)"
   ]
  },
  {
   "cell_type": "markdown",
   "id": "2b220aa0",
   "metadata": {},
   "source": [
    "## Boolean\n",
    "\n",
    "__Properties :__\n",
    "\n",
    "* Boolean are operators that allows yo to convey True or False statements\n",
    "* Deals with control flow and logic."
   ]
  },
  {
   "cell_type": "code",
   "execution_count": 72,
   "id": "ce075ae6",
   "metadata": {},
   "outputs": [
    {
     "data": {
      "text/plain": [
       "bool"
      ]
     },
     "execution_count": 72,
     "metadata": {},
     "output_type": "execute_result"
    }
   ],
   "source": [
    "type(True)"
   ]
  },
  {
   "cell_type": "code",
   "execution_count": 90,
   "id": "b3fbbd3e",
   "metadata": {},
   "outputs": [
    {
     "data": {
      "text/plain": [
       "False"
      ]
     },
     "execution_count": 90,
     "metadata": {},
     "output_type": "execute_result"
    }
   ],
   "source": [
    "1 > 2"
   ]
  }
 ],
 "metadata": {
  "kernelspec": {
   "display_name": "Python 3 (ipykernel)",
   "language": "python",
   "name": "python3"
  },
  "language_info": {
   "codemirror_mode": {
    "name": "ipython",
    "version": 3
   },
   "file_extension": ".py",
   "mimetype": "text/x-python",
   "name": "python",
   "nbconvert_exporter": "python",
   "pygments_lexer": "ipython3",
   "version": "3.10.4"
  }
 },
 "nbformat": 4,
 "nbformat_minor": 5
}
