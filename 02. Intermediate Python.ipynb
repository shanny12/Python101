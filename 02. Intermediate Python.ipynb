{
 "cells": [
  {
   "cell_type": "markdown",
   "id": "f6161e5f",
   "metadata": {},
   "source": [
    "## NB 2 : Input/Output with basic files in Python"
   ]
  },
  {
   "cell_type": "code",
   "execution_count": null,
   "id": "c7bf3a93",
   "metadata": {},
   "outputs": [],
   "source": [
    "# open/create a file\n",
    "myfile = open(\"Data/myfile.txt\",mode='x')"
   ]
  },
  {
   "cell_type": "code",
   "execution_count": 13,
   "id": "f0833c4b",
   "metadata": {},
   "outputs": [
    {
     "data": {
      "text/plain": [
       "'Dell EMC (until 2016, EMC Corporation) is an American multinational corporation headquartered in Hopkinton, Massachusetts and Round Rock, Texas, United States.[2] Dell EMC sells data storage, information security, virtualization, analytics, cloud computing and other products and services that enable organizations to store, manage, protect, and analyze data. Dell EMC\\'s target markets include large companies and small- and medium-sized businesses across various vertical markets.[3][4] The company\\'s stock (as EMC Corporation) was added to the New York Stock Exchange on April 6, 1986,[5] and was also listed on the S&P 500 index.\\n\\nEMC was acquired by Dell in 2016; at that time, Forbes noted EMC\\'s \"focus on developing and selling data storage and data management hardware and software and convincing its customers to buy its products independent of their other IT buying decisions\" based on \"best-of-breed.\"[6] It was later renamed to Dell EMC. Dell uses the EMC name with some of its products.[7]\\n\\nPrior to its acquisition by Dell, EMC had, in 2008, acquired Iomega;[8] Dell EMC formed a partnership with Lenovo in 2013, as LenovoEMC, that superseded and rebranded Iomega.[9]'"
      ]
     },
     "execution_count": 13,
     "metadata": {},
     "output_type": "execute_result"
    }
   ],
   "source": [
    "# read a file\n",
    "myfile = open(\"Data/myfile.txt\", mode='r')\n",
    "myfile.read()"
   ]
  },
  {
   "cell_type": "code",
   "execution_count": 24,
   "id": "8c310eb9",
   "metadata": {
    "scrolled": true
   },
   "outputs": [
    {
     "data": {
      "text/plain": [
       "0"
      ]
     },
     "execution_count": 24,
     "metadata": {},
     "output_type": "execute_result"
    }
   ],
   "source": [
    "# reset the cursor   *********IMPORTANT*******\n",
    "myfile.seek(0)"
   ]
  },
  {
   "cell_type": "code",
   "execution_count": 25,
   "id": "1628ea30",
   "metadata": {},
   "outputs": [],
   "source": [
    "arr = myfile.readlines()"
   ]
  },
  {
   "cell_type": "code",
   "execution_count": 27,
   "id": "2b38c6ea",
   "metadata": {},
   "outputs": [
    {
     "name": "stdout",
     "output_type": "stream",
     "text": [
      "EMC was acquired by Dell in 2016; at that time, Forbes noted EMC's \"focus on developing and selling data storage and data management hardware and software and convincing its customers to buy its products independent of their other IT buying decisions\" based on \"best-of-breed.\"[6] It was later renamed to Dell EMC. Dell uses the EMC name with some of its products.[7]\n",
      "\n"
     ]
    }
   ],
   "source": [
    "print(arr[2])"
   ]
  },
  {
   "cell_type": "code",
   "execution_count": 30,
   "id": "3207f9b4",
   "metadata": {},
   "outputs": [],
   "source": [
    "# issues while reading a file in windows  --- when folder name has space in it\n",
    "mFile = open(\"C:\\\\Users\\\\kudre\\\\Documents\\\\Github\\\\Python101\\\\Data\\\\New Folder\\\\myfile.txt\")\n",
    "\n",
    "# issues while reading a file in linux  --- when folder name has space in it\n",
    "# mFile = open(\"/Users/Kudre/Documents/Github/Python101/Data/New Folder/myfile.txt\")"
   ]
  },
  {
   "cell_type": "code",
   "execution_count": 31,
   "id": "fe6ce568",
   "metadata": {},
   "outputs": [],
   "source": [
    "mFile.close()\n",
    "myfile.close()"
   ]
  },
  {
   "cell_type": "code",
   "execution_count": 32,
   "id": "c70958a1",
   "metadata": {},
   "outputs": [],
   "source": [
    "# if you don't want to close the file everytime after some operation\n",
    "# ************ THIS METHOD WILL BE USED ***********\n",
    "with open(\"Data/myfile.txt\") as myfile:\n",
    "    contents = myfile.read()"
   ]
  },
  {
   "cell_type": "code",
   "execution_count": 33,
   "id": "6fb306dd",
   "metadata": {},
   "outputs": [
    {
     "data": {
      "text/plain": [
       "'Dell EMC (until 2016, EMC Corporation) is an American multinational corporation headquartered in Hopkinton, Massachusetts and Round Rock, Texas, United States.[2] Dell EMC sells data storage, information security, virtualization, analytics, cloud computing and other products and services that enable organizations to store, manage, protect, and analyze data. Dell EMC\\'s target markets include large companies and small- and medium-sized businesses across various vertical markets.[3][4] The company\\'s stock (as EMC Corporation) was added to the New York Stock Exchange on April 6, 1986,[5] and was also listed on the S&P 500 index.\\n\\nEMC was acquired by Dell in 2016; at that time, Forbes noted EMC\\'s \"focus on developing and selling data storage and data management hardware and software and convincing its customers to buy its products independent of their other IT buying decisions\" based on \"best-of-breed.\"[6] It was later renamed to Dell EMC. Dell uses the EMC name with some of its products.[7]\\n\\nPrior to its acquisition by Dell, EMC had, in 2008, acquired Iomega;[8] Dell EMC formed a partnership with Lenovo in 2013, as LenovoEMC, that superseded and rebranded Iomega.[9]'"
      ]
     },
     "execution_count": 33,
     "metadata": {},
     "output_type": "execute_result"
    }
   ],
   "source": [
    "contents"
   ]
  },
  {
   "cell_type": "code",
   "execution_count": 35,
   "id": "97de86a0",
   "metadata": {},
   "outputs": [],
   "source": [
    "contents=contents.split('\\n')"
   ]
  },
  {
   "cell_type": "code",
   "execution_count": 36,
   "id": "9c97082b",
   "metadata": {},
   "outputs": [
    {
     "data": {
      "text/plain": [
       "[\"Dell EMC (until 2016, EMC Corporation) is an American multinational corporation headquartered in Hopkinton, Massachusetts and Round Rock, Texas, United States.[2] Dell EMC sells data storage, information security, virtualization, analytics, cloud computing and other products and services that enable organizations to store, manage, protect, and analyze data. Dell EMC's target markets include large companies and small- and medium-sized businesses across various vertical markets.[3][4] The company's stock (as EMC Corporation) was added to the New York Stock Exchange on April 6, 1986,[5] and was also listed on the S&P 500 index.\",\n",
       " '',\n",
       " 'EMC was acquired by Dell in 2016; at that time, Forbes noted EMC\\'s \"focus on developing and selling data storage and data management hardware and software and convincing its customers to buy its products independent of their other IT buying decisions\" based on \"best-of-breed.\"[6] It was later renamed to Dell EMC. Dell uses the EMC name with some of its products.[7]',\n",
       " '',\n",
       " 'Prior to its acquisition by Dell, EMC had, in 2008, acquired Iomega;[8] Dell EMC formed a partnership with Lenovo in 2013, as LenovoEMC, that superseded and rebranded Iomega.[9]']"
      ]
     },
     "execution_count": 36,
     "metadata": {},
     "output_type": "execute_result"
    }
   ],
   "source": [
    "contents"
   ]
  },
  {
   "cell_type": "code",
   "execution_count": 38,
   "id": "e03f4d58",
   "metadata": {},
   "outputs": [],
   "source": [
    "with open('Data/new.txt',mode='w') as f:\n",
    "    f.write(\"THis is a new text document created using python.\")"
   ]
  },
  {
   "cell_type": "code",
   "execution_count": 41,
   "id": "60379f25",
   "metadata": {},
   "outputs": [
    {
     "name": "stdout",
     "output_type": "stream",
     "text": [
      "THis is a new text document created using python.\n"
     ]
    }
   ],
   "source": [
    "with open('Data/new.txt') as f:\n",
    "    print(f.read())"
   ]
  },
  {
   "cell_type": "markdown",
   "id": "724a6656",
   "metadata": {},
   "source": [
    "## Comparision Operators"
   ]
  },
  {
   "cell_type": "code",
   "execution_count": 42,
   "id": "d72aa0cf",
   "metadata": {},
   "outputs": [
    {
     "data": {
      "text/plain": [
       "True"
      ]
     },
     "execution_count": 42,
     "metadata": {},
     "output_type": "execute_result"
    }
   ],
   "source": [
    "# output will alwaays be boolean\n",
    "2 == 2"
   ]
  },
  {
   "cell_type": "code",
   "execution_count": 43,
   "id": "fd80c1f5",
   "metadata": {},
   "outputs": [
    {
     "data": {
      "text/plain": [
       "False"
      ]
     },
     "execution_count": 43,
     "metadata": {},
     "output_type": "execute_result"
    }
   ],
   "source": [
    "'hello' == 'Hello'"
   ]
  },
  {
   "cell_type": "code",
   "execution_count": 44,
   "id": "6999264d",
   "metadata": {},
   "outputs": [
    {
     "data": {
      "text/plain": [
       "True"
      ]
     },
     "execution_count": 44,
     "metadata": {},
     "output_type": "execute_result"
    }
   ],
   "source": [
    "2.0 == 2"
   ]
  },
  {
   "cell_type": "code",
   "execution_count": 45,
   "id": "f138dcbf",
   "metadata": {},
   "outputs": [
    {
     "data": {
      "text/plain": [
       "True"
      ]
     },
     "execution_count": 45,
     "metadata": {},
     "output_type": "execute_result"
    }
   ],
   "source": [
    "2 >= 2"
   ]
  },
  {
   "cell_type": "markdown",
   "id": "29454ffa",
   "metadata": {},
   "source": [
    "## and or not operators"
   ]
  },
  {
   "cell_type": "code",
   "execution_count": 46,
   "id": "40bc26bd",
   "metadata": {},
   "outputs": [
    {
     "data": {
      "text/plain": [
       "False"
      ]
     },
     "execution_count": 46,
     "metadata": {},
     "output_type": "execute_result"
    }
   ],
   "source": [
    "1 > 2 and 2 < 1"
   ]
  },
  {
   "cell_type": "code",
   "execution_count": 48,
   "id": "5b82defa",
   "metadata": {},
   "outputs": [
    {
     "data": {
      "text/plain": [
       "True"
      ]
     },
     "execution_count": 48,
     "metadata": {},
     "output_type": "execute_result"
    }
   ],
   "source": [
    "1 > 2 or 2 > 1"
   ]
  },
  {
   "cell_type": "code",
   "execution_count": 49,
   "id": "e30e9b53",
   "metadata": {},
   "outputs": [
    {
     "data": {
      "text/plain": [
       "False"
      ]
     },
     "execution_count": 49,
     "metadata": {},
     "output_type": "execute_result"
    }
   ],
   "source": [
    "not(1 == 1)"
   ]
  },
  {
   "cell_type": "markdown",
   "id": "8cdde911",
   "metadata": {},
   "source": [
    "## Conditional operators"
   ]
  },
  {
   "cell_type": "code",
   "execution_count": 53,
   "id": "68444f39",
   "metadata": {},
   "outputs": [
    {
     "name": "stdout",
     "output_type": "stream",
     "text": [
      "not ready for marriage\n"
     ]
    }
   ],
   "source": [
    "# if , elif, else -- control flow\n",
    "from datetime import date\n",
    "currDate = date.today()\n",
    "age = currDate.year - 2000\n",
    "\n",
    "if age < 24:\n",
    "    print(\"not ready for marriage\")\n",
    "elif age >= 24 and age < 28:\n",
    "    print(\"get married soon!\")\n",
    "else:\n",
    "    print(\"get a baby\")"
   ]
  },
  {
   "cell_type": "markdown",
   "id": "689d8c3e",
   "metadata": {},
   "source": [
    "## Loops"
   ]
  },
  {
   "cell_type": "code",
   "execution_count": 58,
   "id": "c5d5c24e",
   "metadata": {},
   "outputs": [
    {
     "name": "stdout",
     "output_type": "stream",
     "text": [
      "1\n",
      "22\n",
      "13\n",
      "4\n",
      "55\n",
      "6\n",
      "37\n",
      "18\n",
      "9\n"
     ]
    }
   ],
   "source": [
    "# for loops\n",
    "my_list = [1,22,13,4,55,6,37,18,9]\n",
    "for i in range(len(my_list)):\n",
    "    print(my_list[i])"
   ]
  },
  {
   "cell_type": "code",
   "execution_count": 59,
   "id": "6b100171",
   "metadata": {},
   "outputs": [
    {
     "name": "stdout",
     "output_type": "stream",
     "text": [
      "1\n",
      "22\n",
      "13\n",
      "4\n",
      "55\n",
      "6\n",
      "37\n",
      "18\n",
      "9\n"
     ]
    }
   ],
   "source": [
    "for i in my_list:\n",
    "    print(i)"
   ]
  },
  {
   "cell_type": "code",
   "execution_count": 64,
   "id": "5498c2ba",
   "metadata": {},
   "outputs": [
    {
     "name": "stdout",
     "output_type": "stream",
     "text": [
      "Enter the number : 5\n",
      "120\n"
     ]
    }
   ],
   "source": [
    "# prac\n",
    "num = int(input('Enter the number : '))\n",
    "fact = 1\n",
    "for i in range(1,num+1):\n",
    "    fact *= i\n",
    "print(fact)"
   ]
  },
  {
   "cell_type": "code",
   "execution_count": 68,
   "id": "845b2963",
   "metadata": {},
   "outputs": [
    {
     "name": "stdout",
     "output_type": "stream",
     "text": [
      "15.0\n"
     ]
    }
   ],
   "source": [
    "totalSum =0 \n",
    "for i in range(1,num+1):\n",
    "    totalSum=totalSum+i\n",
    "print(totalSum)"
   ]
  },
  {
   "cell_type": "code",
   "execution_count": 69,
   "id": "a5c5d5c2",
   "metadata": {},
   "outputs": [
    {
     "name": "stdout",
     "output_type": "stream",
     "text": [
      "15.0\n"
     ]
    }
   ],
   "source": [
    "totalSum = (num*(num+1))/2 # sum of n natural number = (n*(n+1))/2\n",
    "print(totalSum)"
   ]
  },
  {
   "cell_type": "code",
   "execution_count": 76,
   "id": "347e7653",
   "metadata": {},
   "outputs": [
    {
     "name": "stdout",
     "output_type": "stream",
     "text": [
      "22\n",
      "22\n",
      "22\n",
      "22\n"
     ]
    }
   ],
   "source": [
    "myList = [(1,22,2),(3,22,4),(5,22,6),(7,22,8)]\n",
    "for (i,j,k) in myList:\n",
    "    print(j)"
   ]
  },
  {
   "cell_type": "code",
   "execution_count": 79,
   "id": "9d309533",
   "metadata": {},
   "outputs": [
    {
     "name": "stdout",
     "output_type": "stream",
     "text": [
      "k1 20\n",
      "k2 44\n",
      "k3 12\n"
     ]
    }
   ],
   "source": [
    "d = {'k1': 20, 'k2' : 44, 'k3' : 12}\n",
    "for key,values in d.items():\n",
    "    print(key, values)"
   ]
  },
  {
   "cell_type": "code",
   "execution_count": 80,
   "id": "a6ecbdca",
   "metadata": {},
   "outputs": [
    {
     "name": "stdout",
     "output_type": "stream",
     "text": [
      "10\n",
      "9\n",
      "8\n",
      "7\n",
      "6\n",
      "5\n",
      "4\n",
      "3\n",
      "2\n",
      "1\n"
     ]
    }
   ],
   "source": [
    "# while loop\n",
    "a = 10\n",
    "while a > 0:\n",
    "    print(a)\n",
    "    a -= 1"
   ]
  },
  {
   "cell_type": "markdown",
   "id": "e2f19fd2",
   "metadata": {},
   "source": [
    "## Keywords in loop\n",
    "\n",
    "* __break__ : breaks out of the current closest enclosing loop\n",
    "* __continue__ : goes to the top of the closest enclosing loop\n",
    "* __pass__ : does nothing at all"
   ]
  },
  {
   "cell_type": "code",
   "execution_count": 81,
   "id": "9ca520d0",
   "metadata": {},
   "outputs": [],
   "source": [
    "for i in range(5):\n",
    "    # if you don't want to do anything\n",
    "    pass"
   ]
  },
  {
   "cell_type": "code",
   "execution_count": 83,
   "id": "5dd03921",
   "metadata": {},
   "outputs": [
    {
     "name": "stdout",
     "output_type": "stream",
     "text": [
      "r\n",
      "n\n",
      "o\n",
      "l\n",
      "d\n"
     ]
    }
   ],
   "source": [
    "string = \"arnold\"\n",
    "for letter in string:\n",
    "    if letter == \"a\":\n",
    "        continue\n",
    "    print(letter)"
   ]
  },
  {
   "cell_type": "code",
   "execution_count": 84,
   "id": "3a81c08b",
   "metadata": {},
   "outputs": [
    {
     "name": "stdout",
     "output_type": "stream",
     "text": [
      "a\n",
      "r\n"
     ]
    }
   ],
   "source": [
    "for letter in string:\n",
    "    if letter =='n':\n",
    "        break\n",
    "    print(letter)"
   ]
  },
  {
   "cell_type": "markdown",
   "id": "422c5711",
   "metadata": {},
   "source": [
    "## Useful operators in Python\n",
    "\n",
    "* range(start,end,skip) -- generator operator\n",
    "* enumerate -- count the instances\n",
    "* zip -- merges multiple objects"
   ]
  },
  {
   "cell_type": "code",
   "execution_count": 85,
   "id": "62209784",
   "metadata": {},
   "outputs": [
    {
     "name": "stdout",
     "output_type": "stream",
     "text": [
      "(0, 'a')\n",
      "(1, 'r')\n",
      "(2, 'n')\n",
      "(3, 'o')\n",
      "(4, 'l')\n",
      "(5, 'd')\n"
     ]
    }
   ],
   "source": [
    "for i in enumerate(string):\n",
    "    print(i)"
   ]
  },
  {
   "cell_type": "code",
   "execution_count": 86,
   "id": "d70dd856",
   "metadata": {},
   "outputs": [
    {
     "name": "stdout",
     "output_type": "stream",
     "text": [
      "(1, 6, 11)\n",
      "(2, 7, 12)\n",
      "(3, 8, 13)\n",
      "(4, 9, 14)\n",
      "(5, 10, 15)\n"
     ]
    }
   ],
   "source": [
    "myList = [1,2,3,4,5]\n",
    "myList1 = [6,7,8,9,10]\n",
    "myList2 = [11,12,13,14,15]\n",
    "\n",
    "for i in zip(myList, myList1, myList2):\n",
    "    print(i)"
   ]
  },
  {
   "cell_type": "code",
   "execution_count": 94,
   "id": "cbafc9ea",
   "metadata": {},
   "outputs": [
    {
     "data": {
      "text/plain": [
       "True"
      ]
     },
     "execution_count": 94,
     "metadata": {},
     "output_type": "execute_result"
    }
   ],
   "source": [
    "# check for a element in list\n",
    "a = ['x','y','z']\n",
    "'x' in a"
   ]
  },
  {
   "cell_type": "code",
   "execution_count": 95,
   "id": "691d1fda",
   "metadata": {},
   "outputs": [
    {
     "data": {
      "text/plain": [
       "True"
      ]
     },
     "execution_count": 95,
     "metadata": {},
     "output_type": "execute_result"
    }
   ],
   "source": [
    "'a' in 'Sharanya'"
   ]
  },
  {
   "cell_type": "code",
   "execution_count": 96,
   "id": "92b631fc",
   "metadata": {},
   "outputs": [
    {
     "data": {
      "text/plain": [
       "True"
      ]
     },
     "execution_count": 96,
     "metadata": {},
     "output_type": "execute_result"
    }
   ],
   "source": [
    "'mykey' in {'mykey':345}"
   ]
  },
  {
   "cell_type": "code",
   "execution_count": 99,
   "id": "345dd100",
   "metadata": {},
   "outputs": [
    {
     "data": {
      "text/plain": [
       "True"
      ]
     },
     "execution_count": 99,
     "metadata": {},
     "output_type": "execute_result"
    }
   ],
   "source": [
    "d =  {'mykey':345}\n",
    "345 in d.values()"
   ]
  },
  {
   "cell_type": "code",
   "execution_count": 100,
   "id": "cac136d8",
   "metadata": {},
   "outputs": [
    {
     "name": "stdout",
     "output_type": "stream",
     "text": [
      "z\n"
     ]
    }
   ],
   "source": [
    "print(max(a))"
   ]
  },
  {
   "cell_type": "markdown",
   "id": "f16fe06c",
   "metadata": {},
   "source": [
    "## random integer"
   ]
  },
  {
   "cell_type": "code",
   "execution_count": 105,
   "id": "a15aab07",
   "metadata": {},
   "outputs": [
    {
     "data": {
      "text/plain": [
       "[5, 10, 9, 4, 8, 1, 7, 3, 2, 6]"
      ]
     },
     "execution_count": 105,
     "metadata": {},
     "output_type": "execute_result"
    }
   ],
   "source": [
    "from random import shuffle\n",
    "myList = [1,2,3,4,5,6,7,8,9,10]\n",
    "shuffle(myList)\n",
    "\n",
    "myList"
   ]
  },
  {
   "cell_type": "code",
   "execution_count": 106,
   "id": "2bda6926",
   "metadata": {},
   "outputs": [
    {
     "data": {
      "text/plain": [
       "83"
      ]
     },
     "execution_count": 106,
     "metadata": {},
     "output_type": "execute_result"
    }
   ],
   "source": [
    "from random import randint\n",
    "myNo = randint(0,100)\n",
    "myNo"
   ]
  },
  {
   "cell_type": "code",
   "execution_count": null,
   "id": "b6db44b3",
   "metadata": {},
   "outputs": [],
   "source": []
  }
 ],
 "metadata": {
  "kernelspec": {
   "display_name": "Python 3 (ipykernel)",
   "language": "python",
   "name": "python3"
  },
  "language_info": {
   "codemirror_mode": {
    "name": "ipython",
    "version": 3
   },
   "file_extension": ".py",
   "mimetype": "text/x-python",
   "name": "python",
   "nbconvert_exporter": "python",
   "pygments_lexer": "ipython3",
   "version": "3.10.5"
  }
 },
 "nbformat": 4,
 "nbformat_minor": 5
}
